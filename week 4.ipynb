{
    "cells": [
        {
            "cell_type": "markdown",
            "metadata": {},
            "source": "CAPSTONE\nBattle of the Neighborhoods\nItalian Restaurants\n\nIntroduction\nThe city of New York consist in 8.4 million people with almost 700.000 with Italian roots, with this kind multicultural city the region-culture based food is the norm, so in this case we will take on to explore the Italian venues. This report explores which neighborhoods and boroughs of New York City have the most as well as the best Italian restaurants. Additionally, I will attempt to answer the questions \u201cWhere should I open an Italian Restaurant?\u201d and \u201cWhere should I stay If I want great Italian food?\u201d\n\nData\nIn order to answer the above questions, data on New York City neighborhoods, boroughs to include boundaries, latitude, longitude, restaurants, and restaurant ratings and tips are required.\nNew York City data containing the neighborhoods and boroughs, latitudes, and longitudes will be obtained from the data source: https://cocl.us/new_york_dataset\nNew York City data containing neighborhood boundaries will be obtained from the data source: https://data.cityofnewyork.us/City-Government/Borough-Boundaries/tqmj-j8zm\nAll data related to locations and quality of Italian restaurants will be obtained via the FourSquare API utilized via the Request library in Python.\n\nMethodology\n\u2022 Data will be collected from https://cocl.us/new_york_dataset and cleaned and processed into a dataframe.\n\u2022 FourSquare be used to locate all venues and then filtered by Italian restaurants. Ratings, tips, and likes by users will be counted and added to the dataframe.\n\u2022 Data will be sorted based on rankings\n\u2022 Finally, the data be will be visually assessed using graphing from various Python libraries.\nProblem Statement\n1.\tWhat is / are the best location(s) for Italian cuisine in New York City?\n2.\tIn what Neighborhood and/or borough should I open an Italian restaurant to have the best chance of being successful?\n"
        },
        {
            "cell_type": "code",
            "execution_count": null,
            "metadata": {},
            "outputs": [],
            "source": ""
        },
        {
            "cell_type": "code",
            "execution_count": null,
            "metadata": {},
            "outputs": [],
            "source": ""
        },
        {
            "cell_type": "code",
            "execution_count": null,
            "metadata": {},
            "outputs": [],
            "source": ""
        }
    ],
    "metadata": {
        "kernelspec": {
            "display_name": "Python 3.6",
            "language": "python",
            "name": "python3"
        },
        "language_info": {
            "codemirror_mode": {
                "name": "ipython",
                "version": 3
            },
            "file_extension": ".py",
            "mimetype": "text/x-python",
            "name": "python",
            "nbconvert_exporter": "python",
            "pygments_lexer": "ipython3",
            "version": "3.6.9"
        }
    },
    "nbformat": 4,
    "nbformat_minor": 1
}